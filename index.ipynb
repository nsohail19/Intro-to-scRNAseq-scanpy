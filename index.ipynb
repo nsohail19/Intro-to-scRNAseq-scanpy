{
 "cells": [
  {
   "cell_type": "markdown",
   "id": "12693074-9921-4edd-bee7-e861905c336b",
   "metadata": {},
   "source": [
    "---\n",
    "sidebar: false\n",
    "toc: false\n",
    "execute: \n",
    "  eval: false\n",
    "---"
   ]
  },
  {
   "cell_type": "markdown",
   "id": "e9dac095-a1a8-40db-9726-f843225da7bd",
   "metadata": {},
   "source": [
    "# Introduction to single-cell RNA-seq\n",
    "\n",
    "# Description\n",
    "\n",
    "This repository has teaching materials for a hands-on **Introduction to single-cell RNA-seq** workshop. This workshop will instruct participants on how to design a single-cell RNA-seq experiment, and how to efficiently manage and analyze the data starting from count matrices. This will be a hands-on workshop in which we will focus on using the Scanpy package using Python/Jupyter Lab.\n",
    "\n",
    "::: callout-note\n",
    "These materials were developed for a trainer-led workshop, but are amenable to self-guided learning.\n",
    ":::\n",
    "\n",
    "# Learning Objectives\n",
    "\n",
    "- Describe best practices for designing a single-cell RNA-seq experiment\n",
    "- Describe steps in a single-cell RNA-seq analysis workflow\n",
    "- Use Scanpy and associated tools to perform analysis of single-cell expression data, including data filtering, QC, integration, clustering, and marker identification\n",
    "- Understand practical considerations for performing scRNA-seq, rather than in-depth exploration of algorithm theory\n",
    "\n",
    "# Installation requirements\n",
    "\n",
    "## Applications\n",
    "\n",
    "Anaconda\n",
    "\n",
    "## Packages"
   ]
  },
  {
   "cell_type": "code",
   "execution_count": null,
   "id": "6bb6b8b0-3cf4-47eb-92d4-1ab98be867a7",
   "metadata": {
    "editable": true,
    "slideshow": {
     "slide_type": ""
    },
    "tags": []
   },
   "outputs": [],
   "source": [
    "conda create -n scrna_py python==3.12\n",
    "conda activate scrna_py\n",
    "conda install jupyter pandas matplotlib \n",
    "conda install -c conda-forge scanpy python-igraph leidenalg"
   ]
  },
  {
   "cell_type": "markdown",
   "id": "b1567928-5979-4cfc-8a58-455b1deef8ef",
   "metadata": {},
   "source": [
    "# Citation\n",
    "\n",
    "To cite material from this course in your publications, please use:\n",
    "\n",
    "::: callout-important\n",
    "# Citation\n",
    "Mary Piper, Meeta Mistry, Jihe Liu, William Gammerdinger, & Radhika Khetani. (2022, January 6). hbctraining/scRNA-seq_online: scRNA-seq Lessons from HCBC (first release). Zenodo. https://doi.org/10.5281/zenodo.5826256.\n",
    ":::\n",
    "\n",
    "A lot of time and effort went into the preparation of these materials. Citations help us understand the needs of the community, gain recognition for our work, and attract further funding to support our teaching activities. Thank you for citing this material if it helped you in your data analysis."
   ]
  }
 ],
 "metadata": {
  "kernelspec": {
   "display_name": "Python 3 (ipykernel)",
   "language": "python",
   "name": "python3"
  },
  "language_info": {
   "codemirror_mode": {
    "name": "ipython",
    "version": 3
   },
   "file_extension": ".py",
   "mimetype": "text/x-python",
   "name": "python",
   "nbconvert_exporter": "python",
   "pygments_lexer": "ipython3",
   "version": "3.12.0"
  }
 },
 "nbformat": 4,
 "nbformat_minor": 5
}
