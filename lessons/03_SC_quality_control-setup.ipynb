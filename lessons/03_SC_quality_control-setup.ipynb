{
 "cells": [
  {
   "cell_type": "markdown",
   "id": "8f110cc7-7b96-4afc-a77d-65c2688000f7",
   "metadata": {},
   "source": [
    "---\n",
    "title: \"Quality Control Setup\"\n",
    "author: \"Mary Piper, Lorena Pantano, Meeta Mistry, Radhika Khetani, Jihe Liu\"\n",
    "date: Thursday, January 30th, 2020\n",
    "---"
   ]
  },
  {
   "cell_type": "markdown",
   "id": "a0180463-4d2c-4b53-ac41-7dde0530ab2f",
   "metadata": {},
   "source": [
    "Approximate time: 90 minutes\n",
    "\n",
    "# Learning Objectives:\n",
    "\n",
    "* Demonstrate how to import data and set up project for upcoming quality control analysis.\n",
    "\n",
    "# Single-cell RNA-seq: Quality control set-up\n",
    "\n",
    "\n",
    "<img src=\"../img/sc_workflow_2022.jpg\" width=\"630\">\n",
    "\n",
    "\n",
    "After quantifying gene expression we need to bring this data into R to generate metrics for performing QC. In this lesson we will talk about the format(s) count data can be expected in, and how to read it into R so we can move on to the QC step in the workflow. We will also discuss the dataset we will be using and the associated metadata.\n",
    "\n",
    "***\n",
    "\n",
    "# Exploring the example dataset\n",
    "\n",
    "For this workshop we will be working with a single-cell RNA-seq dataset which is part of a larger study from [Kang et al, 2017](https://www.nature.com/articles/nbt.4042). In this paper, the authors present a computational algorithm that harnesses genetic variation (eQTL) to determine the genetic identity of each droplet containing a single cell (singlet) and identify droplets containing two cells from different individuals (doublets).\n",
    "\n",
    "The data used to test their algorithm is comprised of pooled Peripheral Blood Mononuclear Cells (PBMCs) taken from eight lupus patients, split into control and interferon beta-treated (stimulated) conditions. \n",
    "\n",
    "<img src=\"../img/kangetal_image.png\" width=\"700\">\n",
    "\n",
    "\n",
    "*Image credit: [Kang et al, 2017](https://www.nature.com/articles/nbt.4042)*\n",
    "\n",
    "## Raw data\n",
    "\n",
    "This dataset is available on GEO ([GSE96583](https://www.ncbi.nlm.nih.gov/geo/query/acc.cgi?acc=GSE96583)), however the available counts matrix lacked mitochondrial reads, so we downloaded the BAM files from the SRA ([SRP102802](https://www-ncbi-nlm-nih-gov.ezp-prod1.hul.harvard.edu/sra?term=SRP102802)). These BAM files were converted back to FASTQ files, then run through [Cell Ranger](https://support.10xgenomics.com/single-cell-gene-expression/software/pipelines/latest/what-is-cell-ranger) to obtain the count data that we will be using.\n",
    "\n",
    "::: callout-note\n",
    "The count data for this dataset is also freely available from 10X Genomics and is used in the [Seurat tutorial](https://satijalab.org/seurat/v3.0/immune_alignment.html). \n",
    ":::\n",
    "\n",
    "## Metadata\n",
    "\n",
    "In addition to the raw data, we also need to collect **information about the data**; this is known as **metadata**. There is often a temptation to just start exploring the data, but it is not very meaningful if we know nothing about the samples that this data originated from.\n",
    "\n",
    "Some relevant metadata for our dataset is provided below:\n",
    "\n",
    "* The libraries were prepared using 10X Genomics version 2 chemistry\n",
    "* The samples were sequenced on the Illumina NextSeq 500\n",
    "* PBMC samples from eight individual lupus patients were separated into two aliquots each. \n",
    "  * One aliquot of PBMCs was activated by 100 U/mL of recombinant IFN-β for 6 hours. \n",
    "  * The second aliquot was left untreated. \n",
    "  * After 6 hours, the eight samples for each condition were pooled together in two final pools (stimulated cells and control cells). We will be working with these two, pooled samples. (*We did not demultiplex the samples because SNP genotype information was used to demultiplex in the paper and the barcodes/sample IDs were not readily available for this data. Generally, you would demultiplex and perform QC on each individual sample rather than pooling the samples.*)\n",
    "* 12,138 and 12,167 cells were identified (after removing doublets) for control and stimulated pooled samples, respectively.\n",
    "\n",
    "* Since the samples are PBMCs, we will expect immune cells, such as:\n",
    "  * B cells\n",
    "  * T cells\n",
    "  * NK cells\n",
    "  * monocytes\n",
    "  * macrophages\n",
    "  * possibly megakaryocytes\n",
    "  \n",
    "**It is recommended that you have some expectation regarding the cell types you expect to see in a dataset prior to performing the QC.** This will inform you if you have any cell types with low complexity (lots of transcripts from a few genes) or cells with higher levels of mitochondrial expression. This will enable us to account for these biological factors during the analysis workflow.\n",
    "\n",
    "None of the above cell types are expected to be low complexity or anticipated to have high mitochondrial content.\n",
    "\n",
    "# Set up\n",
    "\n",
    "For this workshop, we will be working within an RStudio project. In order to follow along you should have **downloaded the R project**.\n",
    "\n",
    "::: callout-important\n",
    "If you haven't done this already, the project can be accessed using [this link](https://www.dropbox.com/s/vop78wq76h02a2f/single_cell_rnaseq.zip?dl=1).\n",
    ":::\n"
   ]
  },
  {
   "cell_type": "markdown",
   "id": "ccf7fe9f-ad19-4d4e-a521-b62e25d8ab8c",
   "metadata": {},
   "source": [
    "## TODO: download instructions"
   ]
  },
  {
   "cell_type": "markdown",
   "id": "4ecf54e3-2aea-40f2-86bb-70d56d5d49f1",
   "metadata": {},
   "source": [
    "## Project organization\n",
    "\n",
    "One of the most important parts of research that involves large amounts of data, is how best to manage it. We tend to prioritize the analysis, but there are many other important aspects of **data management that are often overlooked** in the excitement to get a first look at new data. The [HMS Data Management Working Group](https://datamanagement.hms.harvard.edu/), discusses in-depth some things to consider beyond the data creation and analysis.\n",
    "\n",
    "One important aspect of data management is organization. For each experiment you work on and analyze data for, it is considered best practice to get organized by creating **a planned storage space (directory structure)**. We will do that for our single-cell analysis. \n",
    "\n",
    "Look inside your project space and you will find that a directory structure has been setup for you:\n"
   ]
  },
  {
   "cell_type": "code",
   "execution_count": null,
   "id": "b023b59c-3369-4943-9549-01b572dc787f",
   "metadata": {},
   "outputs": [],
   "source": [
    "single_cell_rnaseq/\n",
    "├── data\n",
    "├── results\n",
    "└── figures"
   ]
  },
  {
   "cell_type": "markdown",
   "id": "bf3108c4-c3f9-48f9-91af-e21428e68c93",
   "metadata": {},
   "source": [
    "## New script"
   ]
  },
  {
   "cell_type": "markdown",
   "id": "ba081c7a-30f9-442d-b689-e1f02c8e4564",
   "metadata": {},
   "source": [
    "Next, open a new Jupyter Notebook file (ipynb), and start with some comments to indicate what this file is going to contain:"
   ]
  },
  {
   "cell_type": "code",
   "execution_count": null,
   "id": "98ccaa67-7264-4c4c-9ba0-d50881d9d3a7",
   "metadata": {},
   "outputs": [],
   "source": [
    "# July/August 2021\n",
    "# HBC single-cell RNA-seq workshop\n",
    "\n",
    "# Single-cell RNA-seq analysis - QC"
   ]
  },
  {
   "cell_type": "markdown",
   "id": "353778ba-2c4b-4bec-851b-519ac3d49e54",
   "metadata": {},
   "source": [
    "Save the Rscript as `quality_control.ipynb`. Your working directory should look something like this:\n",
    "\n",
    "\n",
    "TODO\n",
    "<img src=\"../img/Rstudio_singlecell.png\" width=\"400\">\n",
    "\n",
    "\n",
    "### Loading libraries \n",
    "\n",
    "Now, we can load the necessary libraries:\n"
   ]
  },
  {
   "cell_type": "code",
   "execution_count": 59,
   "id": "7e54f359-b582-4c06-9e21-9d75740ae9b8",
   "metadata": {
    "editable": true,
    "slideshow": {
     "slide_type": ""
    },
    "tags": []
   },
   "outputs": [],
   "source": [
    "import scanpy as sc\n",
    "\n",
    "import warnings\n",
    "warnings.simplefilter(action='ignore', \n",
    "                      category=FutureWarning)"
   ]
  },
  {
   "cell_type": "markdown",
   "id": "482f0b3e-5604-4a2c-9de8-5c07729985ee",
   "metadata": {},
   "source": [
    "## Loading single-cell RNA-seq count data \n",
    "\n",
    "Regardless of the technology or pipeline used to process your raw single-cell RNA-seq sequence data, the output with quantified expression will generally be the same. That is, for each individual sample you will have the following **three files**:\n",
    "\n",
    "1. A file with the **cell IDs**, representing all cells quantified\n",
    "2. A file with the **gene IDs**, representing all genes quantified\n",
    "3. A **matrix of counts** per gene for every cell\n",
    "\n",
    "We can explore these files by clicking the `data/ctrl_raw_feature_bc_matrix` folder:\n",
    "\n",
    "### 1. `barcodes.tsv` \n",
    "This is a text file which contains all cellular barcodes present for that sample. Barcodes are listed in the order of data presented in the matrix file (i.e. these are the column names). \n",
    "\n",
    "  \n",
    "<img src=\"../img/cell_ids_new.png\" width=\"130\">\n",
    "\n",
    "\n",
    "### 2. `features.tsv`\n",
    "This is a text file which contains the identifiers of the quantified genes. The source of the identifier can vary depending on what reference (i.e. Ensembl, NCBI, UCSC) you use in the quantification methods, but most often these are official gene symbols. The order of these genes corresponds to the order of the rows in the matrix file (i.e. these are the row names).\n",
    "\n",
    "<img src=\"../img/genes.png\" width=\"200\">\n",
    "  \n",
    "\n",
    "### 3. `matrix.mtx`\n",
    "This is a text file which contains a matrix of count values. The rows are associated with the gene IDs above and columns correspond to the cellular barcodes. Note that there are **many zero values** in this matrix.\n",
    "\n",
    "\n",
    "<img src=\"../img/sparse_matrix.png\" width=\"600\">\n",
    "\n",
    "\n",
    "Loading this data into R requires us to **use functions that allow us to efficiently combine these three files into a single count matrix.** However, instead of creating a regular matrix data structure, the functions we will use create a **sparse matrix** to reduce the amount of memory (RAM), processing capacity (CPU) and storage required to work with our huge count matrix. \n",
    "\n",
    "Scanpy allows us to easily read in the data by using the `read_10x_mtx()` function.\n",
    "\n",
    "\n",
    "# Reading in a single sample\n",
    "\n",
    "After processing 10X data using its proprietary software Cell Ranger, you will have an `outs` directory (always). Within this directory you will find a number of different files including the files listed below:\n",
    "\n",
    "- **`web_summary.html`:** report that explores different QC metrics, including the mapping metrics, filtering thresholds, estimated number of cells after filtering, and information on the number of reads and genes per cell after filtering.\n",
    "- **BAM alignment files:** files used for visualization of the mapped reads and for re-creation of FASTQ files, if needed\n",
    "- **`filtered_feature_bc_matrix`:** folder containing all files needed to construct the count matrix using data filtered by Cell Ranger\n",
    "- **`raw_feature_bc_matrix`:** folder containing all files needed to construct the count matrix using the raw unfiltered data\n",
    "\n",
    "While Cell Ranger performs filtering on the expression counts (see note below), we wish to perform our own QC and filtering because we want to account for the biology of our experiment/biological system. Given this **we are only interested in the `raw_feature_bc_matrix` folder** in the Cell Ranger output. \n",
    "\n",
    "::: callout-note\n",
    "# Filtered matrix\n",
    "Why do we not use the `filtered_feature_bc_matrix` folder? The `filtered_feature_bc_matrix` uses [internal filtering criteria by Cell Ranger](https://support.10xgenomics.com/single-cell-gene-expression/software/pipelines/latest/algorithms/overview), and we do not have control of what cells to keep or abandon.\n",
    " \n",
    "The filtering performed by Cell Ranger when generating the `filtered_feature_bc_matrix` is often good; however, sometimes data can be of very high quality and the Cell Ranger filtering process can remove high quality cells. In addition, it is generally preferable to explore your own data while taking into account the biology of the experiment for applying thresholds during filtering. For example, if you expect a particular cell type in your dataset to be smaller and/or not as transcriptionally active as other cell types in your dataset, these cells have the potential to be filtered out. However, with Cell Ranger v3 they have tried to account for cells of different sizes (for example, tumor vs infiltrating lymphocytes), and now may not filter as many low quality cells as needed.\n",
    "\n",
    ":::\n",
    "\n",
    "With a single sample, we can generate an AnnData object:"
   ]
  },
  {
   "cell_type": "code",
   "execution_count": 25,
   "id": "c011d90c-4601-458d-830f-9852c882c3a8",
   "metadata": {},
   "outputs": [
    {
     "data": {
      "text/plain": [
       "AnnData object with n_obs × n_vars = 737280 × 33538\n",
       "    var: 'gene_ids', 'feature_types'"
      ]
     },
     "execution_count": 25,
     "metadata": {},
     "output_type": "execute_result"
    }
   ],
   "source": [
    "ad = sc.read_10x_mtx(\"../data/ctrl_raw_feature_bc_matrix/\")\n",
    "ad"
   ]
  },
  {
   "cell_type": "markdown",
   "id": "dd8a0826-739f-4533-b901-e202550ff9e1",
   "metadata": {},
   "source": [
    "We can see from this callout that we have 737,280 cells and 33,538 which is clearly too many! So we can do some very low level filtration to remove any cells that we know are \"empty\". \n",
    "\n",
    "The `filter_cells()` function specifies the minimum number of genes that need to be detected per cell. This argument will filter out poor quality cells that likely just have random barcodes encapsulated without any cell present. Usually, cells with less than 100 genes detected are not considered for analysis."
   ]
  },
  {
   "cell_type": "code",
   "execution_count": 27,
   "id": "14b17a93-8f9a-4775-8ea4-8d375694e37d",
   "metadata": {},
   "outputs": [
    {
     "data": {
      "text/plain": [
       "AnnData object with n_obs × n_vars = 15688 × 33538\n",
       "    obs: 'n_genes'\n",
       "    var: 'gene_ids', 'feature_types'"
      ]
     },
     "execution_count": 27,
     "metadata": {},
     "output_type": "execute_result"
    }
   ],
   "source": [
    "sc.pp.filter_cells(ad, min_genes=100)\n",
    "ad"
   ]
  },
  {
   "cell_type": "markdown",
   "id": "f325a8c4-6de1-4ee8-b107-033098b2f00e",
   "metadata": {},
   "source": [
    "Immediately we can see that we are now left with 15,688 cells."
   ]
  },
  {
   "cell_type": "markdown",
   "id": "e1266280-03a3-433a-b752-850e0d1c3185",
   "metadata": {},
   "source": [
    "# Anatomy of AnnData\n",
    "\n",
    "There are three main \"slots\" with the AnnData object:\n",
    "\n",
    "- `obs` = metadata for each cell\n",
    "- `var` = metadata for each gene\n",
    "- `X` and `Layers` = count matrices\n",
    "\n",
    "## Cell metadata"
   ]
  },
  {
   "cell_type": "markdown",
   "id": "8740bfc7-4665-4fe7-8378-73b344a4a9ac",
   "metadata": {},
   "source": [
    "To being, we will not have much metadata in our scanpy object beyond the cell barcodes themselves. When we ran the `filter_cells()` function, it automatically calculated the number of genes with non-zero expression for each cell and stored it in a column titled `n_genes`:"
   ]
  },
  {
   "cell_type": "code",
   "execution_count": 28,
   "id": "ecd0bf15-6f89-44a2-80da-6525387684c8",
   "metadata": {},
   "outputs": [
    {
     "data": {
      "text/html": [
       "<div>\n",
       "<style scoped>\n",
       "    .dataframe tbody tr th:only-of-type {\n",
       "        vertical-align: middle;\n",
       "    }\n",
       "\n",
       "    .dataframe tbody tr th {\n",
       "        vertical-align: top;\n",
       "    }\n",
       "\n",
       "    .dataframe thead th {\n",
       "        text-align: right;\n",
       "    }\n",
       "</style>\n",
       "<table border=\"1\" class=\"dataframe\">\n",
       "  <thead>\n",
       "    <tr style=\"text-align: right;\">\n",
       "      <th></th>\n",
       "      <th>n_genes</th>\n",
       "    </tr>\n",
       "  </thead>\n",
       "  <tbody>\n",
       "    <tr>\n",
       "      <th>AAACATACAATGCC-1</th>\n",
       "      <td>874</td>\n",
       "    </tr>\n",
       "    <tr>\n",
       "      <th>AAACATACATTTCC-1</th>\n",
       "      <td>896</td>\n",
       "    </tr>\n",
       "    <tr>\n",
       "      <th>AAACATACCAGAAA-1</th>\n",
       "      <td>725</td>\n",
       "    </tr>\n",
       "    <tr>\n",
       "      <th>AAACATACCAGCTA-1</th>\n",
       "      <td>979</td>\n",
       "    </tr>\n",
       "    <tr>\n",
       "      <th>AAACATACCATGCA-1</th>\n",
       "      <td>362</td>\n",
       "    </tr>\n",
       "  </tbody>\n",
       "</table>\n",
       "</div>"
      ],
      "text/plain": [
       "                  n_genes\n",
       "AAACATACAATGCC-1      874\n",
       "AAACATACATTTCC-1      896\n",
       "AAACATACCAGAAA-1      725\n",
       "AAACATACCAGCTA-1      979\n",
       "AAACATACCATGCA-1      362"
      ]
     },
     "execution_count": 28,
     "metadata": {},
     "output_type": "execute_result"
    }
   ],
   "source": [
    "ad.obs.head()"
   ]
  },
  {
   "cell_type": "markdown",
   "id": "37cba74e-26d6-4cb7-a5d2-a45d965fdda8",
   "metadata": {},
   "source": [
    "We can ourselves add additional metadata in the `.obs` with relevant information (sample, sex, age, timepoint, etc). In our case, we can update the sample information to keep track that these cells came from our `ctrl` sample."
   ]
  },
  {
   "cell_type": "code",
   "execution_count": 29,
   "id": "79b40112-614a-4eb3-90f4-6bbda3e7e224",
   "metadata": {},
   "outputs": [
    {
     "data": {
      "text/html": [
       "<div>\n",
       "<style scoped>\n",
       "    .dataframe tbody tr th:only-of-type {\n",
       "        vertical-align: middle;\n",
       "    }\n",
       "\n",
       "    .dataframe tbody tr th {\n",
       "        vertical-align: top;\n",
       "    }\n",
       "\n",
       "    .dataframe thead th {\n",
       "        text-align: right;\n",
       "    }\n",
       "</style>\n",
       "<table border=\"1\" class=\"dataframe\">\n",
       "  <thead>\n",
       "    <tr style=\"text-align: right;\">\n",
       "      <th></th>\n",
       "      <th>n_genes</th>\n",
       "      <th>sample</th>\n",
       "    </tr>\n",
       "  </thead>\n",
       "  <tbody>\n",
       "    <tr>\n",
       "      <th>AAACATACAATGCC-1</th>\n",
       "      <td>874</td>\n",
       "      <td>ctrl</td>\n",
       "    </tr>\n",
       "    <tr>\n",
       "      <th>AAACATACATTTCC-1</th>\n",
       "      <td>896</td>\n",
       "      <td>ctrl</td>\n",
       "    </tr>\n",
       "    <tr>\n",
       "      <th>AAACATACCAGAAA-1</th>\n",
       "      <td>725</td>\n",
       "      <td>ctrl</td>\n",
       "    </tr>\n",
       "    <tr>\n",
       "      <th>AAACATACCAGCTA-1</th>\n",
       "      <td>979</td>\n",
       "      <td>ctrl</td>\n",
       "    </tr>\n",
       "    <tr>\n",
       "      <th>AAACATACCATGCA-1</th>\n",
       "      <td>362</td>\n",
       "      <td>ctrl</td>\n",
       "    </tr>\n",
       "  </tbody>\n",
       "</table>\n",
       "</div>"
      ],
      "text/plain": [
       "                  n_genes sample\n",
       "AAACATACAATGCC-1      874   ctrl\n",
       "AAACATACATTTCC-1      896   ctrl\n",
       "AAACATACCAGAAA-1      725   ctrl\n",
       "AAACATACCAGCTA-1      979   ctrl\n",
       "AAACATACCATGCA-1      362   ctrl"
      ]
     },
     "execution_count": 29,
     "metadata": {},
     "output_type": "execute_result"
    }
   ],
   "source": [
    "ad.obs[\"sample\"] = \"ctrl\"\n",
    "ad.obs.head()"
   ]
  },
  {
   "cell_type": "markdown",
   "id": "5af11042-62f4-4e62-a6d7-1e4bbdc0f5b1",
   "metadata": {},
   "source": [
    "## Gene metadata"
   ]
  },
  {
   "cell_type": "code",
   "execution_count": 30,
   "id": "71f00e89-d3ad-4679-80f3-28a73ba2619b",
   "metadata": {},
   "outputs": [
    {
     "data": {
      "text/html": [
       "<div>\n",
       "<style scoped>\n",
       "    .dataframe tbody tr th:only-of-type {\n",
       "        vertical-align: middle;\n",
       "    }\n",
       "\n",
       "    .dataframe tbody tr th {\n",
       "        vertical-align: top;\n",
       "    }\n",
       "\n",
       "    .dataframe thead th {\n",
       "        text-align: right;\n",
       "    }\n",
       "</style>\n",
       "<table border=\"1\" class=\"dataframe\">\n",
       "  <thead>\n",
       "    <tr style=\"text-align: right;\">\n",
       "      <th></th>\n",
       "      <th>gene_ids</th>\n",
       "      <th>feature_types</th>\n",
       "    </tr>\n",
       "  </thead>\n",
       "  <tbody>\n",
       "    <tr>\n",
       "      <th>MIR1302-2HG</th>\n",
       "      <td>ENSG00000243485</td>\n",
       "      <td>Gene Expression</td>\n",
       "    </tr>\n",
       "    <tr>\n",
       "      <th>FAM138A</th>\n",
       "      <td>ENSG00000237613</td>\n",
       "      <td>Gene Expression</td>\n",
       "    </tr>\n",
       "    <tr>\n",
       "      <th>OR4F5</th>\n",
       "      <td>ENSG00000186092</td>\n",
       "      <td>Gene Expression</td>\n",
       "    </tr>\n",
       "    <tr>\n",
       "      <th>AL627309.1</th>\n",
       "      <td>ENSG00000238009</td>\n",
       "      <td>Gene Expression</td>\n",
       "    </tr>\n",
       "    <tr>\n",
       "      <th>AL627309.3</th>\n",
       "      <td>ENSG00000239945</td>\n",
       "      <td>Gene Expression</td>\n",
       "    </tr>\n",
       "  </tbody>\n",
       "</table>\n",
       "</div>"
      ],
      "text/plain": [
       "                    gene_ids    feature_types\n",
       "MIR1302-2HG  ENSG00000243485  Gene Expression\n",
       "FAM138A      ENSG00000237613  Gene Expression\n",
       "OR4F5        ENSG00000186092  Gene Expression\n",
       "AL627309.1   ENSG00000238009  Gene Expression\n",
       "AL627309.3   ENSG00000239945  Gene Expression"
      ]
     },
     "execution_count": 30,
     "metadata": {},
     "output_type": "execute_result"
    }
   ],
   "source": [
    "ad.var.head()"
   ]
  },
  {
   "cell_type": "markdown",
   "id": "b01a4e5f-da45-4c45-92d5-2c62ff71bc8d",
   "metadata": {},
   "source": [
    "## Counts matrix\n",
    "\n",
    "By default, the counts matrix will be stored in a format known as a \"sparse matrix\" which is a way store large matrix data in an efficient way. "
   ]
  },
  {
   "cell_type": "code",
   "execution_count": 31,
   "id": "83a7da62-90a1-46b4-9b1c-8829c94d4d81",
   "metadata": {},
   "outputs": [
    {
     "data": {
      "text/plain": [
       "<15688x33538 sparse matrix of type '<class 'numpy.float32'>'\n",
       "\twith 9243628 stored elements in Compressed Sparse Column format>"
      ]
     },
     "execution_count": 31,
     "metadata": {},
     "output_type": "execute_result"
    }
   ],
   "source": [
    "ad.X"
   ]
  },
  {
   "cell_type": "markdown",
   "id": "8f4a8e60-6ba4-49ec-a513-46d67ab1cf84",
   "metadata": {},
   "source": [
    "To access each value in the first 5 columns and rows, we can use the `todense()` function to get a preview of what is going on:"
   ]
  },
  {
   "cell_type": "code",
   "execution_count": 32,
   "id": "8538da80-903e-48f6-913d-36f50f034034",
   "metadata": {},
   "outputs": [
    {
     "data": {
      "text/plain": [
       "matrix([[0., 0., 0., 0.],\n",
       "        [0., 0., 0., 0.],\n",
       "        [0., 0., 0., 0.],\n",
       "        [0., 0., 0., 0.]], dtype=float32)"
      ]
     },
     "execution_count": 32,
     "metadata": {},
     "output_type": "execute_result"
    }
   ],
   "source": [
    "ad.X[1:5, 1:5].todense()"
   ]
  },
  {
   "cell_type": "markdown",
   "id": "5fd6524f-322e-431b-8d28-aab4e7443ab2",
   "metadata": {},
   "source": [
    "The values are primarily 0's which is line with our expenctation of this **zero-inflated** data. "
   ]
  },
  {
   "cell_type": "markdown",
   "id": "9e7cdc5b-9d4a-432c-b550-cb56ca33a950",
   "metadata": {},
   "source": [
    "## Layers\n",
    "\n",
    "The `.X` is considered to be the default layer for calculations. Since we will later normalize our data, we want to ensure that we store our raw counts in a place we can access it later by making use of `Layers` where we can store multiple different count matrices and access them at will. So to start, we are going to stash away this matrix.\n",
    "\n",
    "We will also specify the `copy()` function to ensure that the data is copied over, and that it doesn't just point to `.X` (which may change in the future)."
   ]
  },
  {
   "cell_type": "code",
   "execution_count": 54,
   "id": "5fa4d902-13de-4b4e-9a2d-87be5372f94a",
   "metadata": {},
   "outputs": [
    {
     "data": {
      "text/plain": [
       "AnnData object with n_obs × n_vars = 15756 × 33538\n",
       "    obs: 'n_genes', 'sample'\n",
       "    var: 'gene_ids', 'feature_types'\n",
       "    layers: 'raw'"
      ]
     },
     "execution_count": 54,
     "metadata": {},
     "output_type": "execute_result"
    }
   ],
   "source": [
    "ad.layers[\"raw\"] = ad.X.copy()\n",
    "ad"
   ]
  },
  {
   "cell_type": "markdown",
   "id": "4c7f3a3c-39b4-4855-bfc4-5f13ccda0e09",
   "metadata": {},
   "source": [
    "# Reading in multiple samples with a `for loop`\n",
    "\n",
    "In practice, you will likely have several samples that you will need to read in data for, and that can get tedious and error-prone if you do it one at a time. So, to make the data import into R more efficient we can use a `for` loop, which will iterate over a series of commands for each of the inputs given and create seurat objects for each of our samples. \n",
    "\n",
    "Today we will use it to **iterate over the two sample folders** and execute two commands for each sample as we did above for a single sample - \n",
    "\n",
    "1. Generate list of sample names\n",
    "2. Read in the count data (`read_10x_mtx()`)\n",
    "3. Filter out the very low quality data\n",
    "4. Add the sample information to the metadata\n",
    "5. Store AnnData to a dictionary (for later merging)\n",
    "\n",
    "Go ahead and copy and paste the code below into your script and then run it.\n"
   ]
  },
  {
   "cell_type": "code",
   "execution_count": 41,
   "id": "3712a40a-c847-41b3-8f67-604834294341",
   "metadata": {},
   "outputs": [
    {
     "name": "stdout",
     "output_type": "stream",
     "text": [
      "../data/ctrl_raw_feature_bc_matrix\n",
      "../data/stim_raw_feature_bc_matrix\n"
     ]
    }
   ],
   "source": [
    "sample_names = [\"ctrl\", \"stim\"]\n",
    "dict_ad = dict()\n",
    "\n",
    "for sample in sample_names:\n",
    "    # Get the path for each sample\n",
    "    path_data = f\"../data/{sample}_raw_feature_bc_matrix\"\n",
    "    print(path_data)\n",
    "\n",
    "    # Load AnnData object\n",
    "    # Filter and add sample metadata\n",
    "    ad = sc.read_10x_mtx(path_data)\n",
    "    sc.pp.filter_cells(ad, min_genes=100)\n",
    "    ad.obs[\"sample\"] = sample\n",
    "\n",
    "    dict_ad[sample] = ad"
   ]
  },
  {
   "cell_type": "markdown",
   "id": "131a9e99-ee9d-4e7d-8be2-4c5088155c18",
   "metadata": {},
   "source": [
    "Now we take a look at `dict_ad` to see if we sucessfully loaded in both of our sample. We expect to see two distincty AnnData objects in the dictionary."
   ]
  },
  {
   "cell_type": "code",
   "execution_count": 42,
   "id": "cfb3dcb1-2776-477f-9a60-bd2e45b4129e",
   "metadata": {},
   "outputs": [
    {
     "data": {
      "text/plain": [
       "{'ctrl': AnnData object with n_obs × n_vars = 15688 × 33538\n",
       "     obs: 'n_genes', 'sample'\n",
       "     var: 'gene_ids', 'feature_types',\n",
       " 'stim': AnnData object with n_obs × n_vars = 15756 × 33538\n",
       "     obs: 'n_genes', 'sample'\n",
       "     var: 'gene_ids', 'feature_types'}"
      ]
     },
     "execution_count": 42,
     "metadata": {},
     "output_type": "execute_result"
    }
   ],
   "source": [
    "dict_ad"
   ]
  },
  {
   "cell_type": "markdown",
   "id": "3534abfb-479c-41ff-8c40-8492d6da01b5",
   "metadata": {},
   "source": [
    "# Merging sample together\n",
    "\n",
    "Next, we need to merge these objects together into a single  object. This will make it easier to run the QC steps for both sample groups together and enable us to easily compare the data quality for all the samples.  \n",
    "\n",
    "We can use the `concatenate()` function to do this. We also specify several arguments to ensure the merge is done correctly with:\n",
    "\n",
    "- join\n",
    "- batch_key\n",
    "- batch_categories\n",
    "- index_unique\n"
   ]
  },
  {
   "cell_type": "code",
   "execution_count": 48,
   "id": "6808583f-f9fc-4a9a-92d0-e0dfda0640d1",
   "metadata": {},
   "outputs": [
    {
     "data": {
      "text/plain": [
       "AnnData object with n_obs × n_vars = 31444 × 33538\n",
       "    obs: 'n_genes', 'sample'\n",
       "    var: 'gene_ids', 'feature_types'"
      ]
     },
     "execution_count": 48,
     "metadata": {},
     "output_type": "execute_result"
    }
   ],
   "source": [
    "# Pooling together the samples\n",
    "adata = sc.AnnData.concatenate(\n",
    "    *list(dict_ad.values()), # the asterisk unpacks the list\n",
    "    join='outer', \n",
    "    batch_key = 'sample', \n",
    "    batch_categories = sample_names,\n",
    "    index_unique = '_'\n",
    ")\n",
    "\n",
    "adata"
   ]
  },
  {
   "cell_type": "markdown",
   "id": "22436ef6-3024-4929-83ca-9f301348fc58",
   "metadata": {},
   "source": [
    "If we look at the metadata of the merged object we should be able to see the correct samples in the metadata:"
   ]
  },
  {
   "cell_type": "code",
   "execution_count": 57,
   "id": "851d4bff-6c1c-433c-9ee3-997e13f03ef9",
   "metadata": {},
   "outputs": [
    {
     "data": {
      "text/html": [
       "<div>\n",
       "<style scoped>\n",
       "    .dataframe tbody tr th:only-of-type {\n",
       "        vertical-align: middle;\n",
       "    }\n",
       "\n",
       "    .dataframe tbody tr th {\n",
       "        vertical-align: top;\n",
       "    }\n",
       "\n",
       "    .dataframe thead th {\n",
       "        text-align: right;\n",
       "    }\n",
       "</style>\n",
       "<table border=\"1\" class=\"dataframe\">\n",
       "  <thead>\n",
       "    <tr style=\"text-align: right;\">\n",
       "      <th></th>\n",
       "      <th>n_genes</th>\n",
       "      <th>sample</th>\n",
       "    </tr>\n",
       "  </thead>\n",
       "  <tbody>\n",
       "    <tr>\n",
       "      <th>AAACATACAATGCC-1_ctrl</th>\n",
       "      <td>874</td>\n",
       "      <td>ctrl</td>\n",
       "    </tr>\n",
       "    <tr>\n",
       "      <th>AAACATACATTTCC-1_ctrl</th>\n",
       "      <td>896</td>\n",
       "      <td>ctrl</td>\n",
       "    </tr>\n",
       "    <tr>\n",
       "      <th>AAACATACCAGAAA-1_ctrl</th>\n",
       "      <td>725</td>\n",
       "      <td>ctrl</td>\n",
       "    </tr>\n",
       "    <tr>\n",
       "      <th>AAACATACCAGCTA-1_ctrl</th>\n",
       "      <td>979</td>\n",
       "      <td>ctrl</td>\n",
       "    </tr>\n",
       "    <tr>\n",
       "      <th>AAACATACCATGCA-1_ctrl</th>\n",
       "      <td>362</td>\n",
       "      <td>ctrl</td>\n",
       "    </tr>\n",
       "  </tbody>\n",
       "</table>\n",
       "</div>"
      ],
      "text/plain": [
       "                       n_genes sample\n",
       "AAACATACAATGCC-1_ctrl      874   ctrl\n",
       "AAACATACATTTCC-1_ctrl      896   ctrl\n",
       "AAACATACCAGAAA-1_ctrl      725   ctrl\n",
       "AAACATACCAGCTA-1_ctrl      979   ctrl\n",
       "AAACATACCATGCA-1_ctrl      362   ctrl"
      ]
     },
     "execution_count": 57,
     "metadata": {},
     "output_type": "execute_result"
    }
   ],
   "source": [
    "adata.obs.head()"
   ]
  },
  {
   "cell_type": "code",
   "execution_count": 58,
   "id": "8a794bf6-acdc-4747-b8f1-079434e7f9c9",
   "metadata": {},
   "outputs": [
    {
     "data": {
      "text/html": [
       "<div>\n",
       "<style scoped>\n",
       "    .dataframe tbody tr th:only-of-type {\n",
       "        vertical-align: middle;\n",
       "    }\n",
       "\n",
       "    .dataframe tbody tr th {\n",
       "        vertical-align: top;\n",
       "    }\n",
       "\n",
       "    .dataframe thead th {\n",
       "        text-align: right;\n",
       "    }\n",
       "</style>\n",
       "<table border=\"1\" class=\"dataframe\">\n",
       "  <thead>\n",
       "    <tr style=\"text-align: right;\">\n",
       "      <th></th>\n",
       "      <th>n_genes</th>\n",
       "      <th>sample</th>\n",
       "    </tr>\n",
       "  </thead>\n",
       "  <tbody>\n",
       "    <tr>\n",
       "      <th>TTTGCATGCTAAGC-1_stim</th>\n",
       "      <td>545</td>\n",
       "      <td>stim</td>\n",
       "    </tr>\n",
       "    <tr>\n",
       "      <th>TTTGCATGGGACGA-1_stim</th>\n",
       "      <td>518</td>\n",
       "      <td>stim</td>\n",
       "    </tr>\n",
       "    <tr>\n",
       "      <th>TTTGCATGGTGAGG-1_stim</th>\n",
       "      <td>469</td>\n",
       "      <td>stim</td>\n",
       "    </tr>\n",
       "    <tr>\n",
       "      <th>TTTGCATGGTTTGG-1_stim</th>\n",
       "      <td>432</td>\n",
       "      <td>stim</td>\n",
       "    </tr>\n",
       "    <tr>\n",
       "      <th>TTTGCATGTCTTAC-1_stim</th>\n",
       "      <td>438</td>\n",
       "      <td>stim</td>\n",
       "    </tr>\n",
       "  </tbody>\n",
       "</table>\n",
       "</div>"
      ],
      "text/plain": [
       "                       n_genes sample\n",
       "TTTGCATGCTAAGC-1_stim      545   stim\n",
       "TTTGCATGGGACGA-1_stim      518   stim\n",
       "TTTGCATGGTGAGG-1_stim      469   stim\n",
       "TTTGCATGGTTTGG-1_stim      432   stim\n",
       "TTTGCATGTCTTAC-1_stim      438   stim"
      ]
     },
     "execution_count": 58,
     "metadata": {},
     "output_type": "execute_result"
    }
   ],
   "source": [
    "adata.obs.tail()"
   ]
  }
 ],
 "metadata": {
  "kernelspec": {
   "display_name": "Python 3 (ipykernel)",
   "language": "python",
   "name": "python3"
  },
  "language_info": {
   "codemirror_mode": {
    "name": "ipython",
    "version": 3
   },
   "file_extension": ".py",
   "mimetype": "text/x-python",
   "name": "python",
   "nbconvert_exporter": "python",
   "pygments_lexer": "ipython3",
   "version": "3.12.0"
  }
 },
 "nbformat": 4,
 "nbformat_minor": 5
}
