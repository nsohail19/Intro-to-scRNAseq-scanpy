{
 "cells": [
  {
   "cell_type": "markdown",
   "id": "8f110cc7-7b96-4afc-a77d-65c2688000f7",
   "metadata": {},
   "source": [
    "---\n",
    "title: \"Quality Control Setup\"\n",
    "author: \"Mary Piper, Lorena Pantano, Meeta Mistry, Radhika Khetani, Jihe Liu\"\n",
    "date: Thursday, January 30th, 2020\n",
    "---"
   ]
  },
  {
   "cell_type": "markdown",
   "id": "a0180463-4d2c-4b53-ac41-7dde0530ab2f",
   "metadata": {},
   "source": [
    "Approximate time: 90 minutes\n",
    "\n",
    "## Learning Objectives:\n",
    "\n",
    "* Demonstrate how to import data and set up project for upcoming quality control analysis.\n",
    "\n",
    "# Single-cell RNA-seq: Quality control set-up\n",
    "\n",
    "\n",
    "<img src=\"../img/sc_workflow_2022.jpg\" width=\"630\">\n",
    "\n",
    "\n",
    "After quantifying gene expression we need to bring this data into R to generate metrics for performing QC. In this lesson we will talk about the format(s) count data can be expected in, and how to read it into R so we can move on to the QC step in the workflow. We will also discuss the dataset we will be using and the associated metadata.\n",
    "\n",
    "***\n",
    "\n",
    "## Exploring the example dataset\n",
    "\n",
    "For this workshop we will be working with a single-cell RNA-seq dataset which is part of a larger study from [Kang et al, 2017](https://www.nature.com/articles/nbt.4042). In this paper, the authors present a computational algorithm that harnesses genetic variation (eQTL) to determine the genetic identity of each droplet containing a single cell (singlet) and identify droplets containing two cells from different individuals (doublets).\n",
    "\n",
    "The data used to test their algorithm is comprised of pooled Peripheral Blood Mononuclear Cells (PBMCs) taken from eight lupus patients, split into control and interferon beta-treated (stimulated) conditions. \n",
    "\n",
    "\n",
    "\n",
    "<img src=\"../img/kangetal_image.png\" width=\"700\">\n",
    "\n",
    "\n",
    "*Image credit: [Kang et al, 2017](https://www.nature.com/articles/nbt.4042)*\n",
    "\n",
    "### Raw data\n",
    "\n",
    "This dataset is available on GEO ([GSE96583](https://www.ncbi.nlm.nih.gov/geo/query/acc.cgi?acc=GSE96583)), however the available counts matrix lacked mitochondrial reads, so we downloaded the BAM files from the SRA ([SRP102802](https://www-ncbi-nlm-nih-gov.ezp-prod1.hul.harvard.edu/sra?term=SRP102802)). These BAM files were converted back to FASTQ files, then run through [Cell Ranger](https://support.10xgenomics.com/single-cell-gene-expression/software/pipelines/latest/what-is-cell-ranger) to obtain the count data that we will be using.\n",
    "\n",
    "::: callout-note\n",
    "The count data for this dataset is also freely available from 10X Genomics and is used in the [Seurat tutorial](https://satijalab.org/seurat/v3.0/immune_alignment.html). \n",
    ":::\n",
    "\n",
    "### Metadata\n",
    "\n",
    "In addition to the raw data, we also need to collect **information about the data**; this is known as **metadata**. There is often a temptation to just start exploring the data, but it is not very meaningful if we know nothing about the samples that this data originated from.\n",
    "\n",
    "Some relevant metadata for our dataset is provided below:\n",
    "\n",
    "* The libraries were prepared using 10X Genomics version 2 chemistry\n",
    "* The samples were sequenced on the Illumina NextSeq 500\n",
    "* PBMC samples from eight individual lupus patients were separated into two aliquots each. \n",
    "  * One aliquot of PBMCs was activated by 100 U/mL of recombinant IFN-β for 6 hours. \n",
    "  * The second aliquot was left untreated. \n",
    "  * After 6 hours, the eight samples for each condition were pooled together in two final pools (stimulated cells and control cells). We will be working with these two, pooled samples. (*We did not demultiplex the samples because SNP genotype information was used to demultiplex in the paper and the barcodes/sample IDs were not readily available for this data. Generally, you would demultiplex and perform QC on each individual sample rather than pooling the samples.*)\n",
    "* 12,138 and 12,167 cells were identified (after removing doublets) for control and stimulated pooled samples, respectively.\n",
    "\n",
    "* Since the samples are PBMCs, we will expect immune cells, such as:\n",
    "  * B cells\n",
    "  * T cells\n",
    "  * NK cells\n",
    "  * monocytes\n",
    "  * macrophages\n",
    "  * possibly megakaryocytes\n",
    "  \n",
    "**It is recommended that you have some expectation regarding the cell types you expect to see in a dataset prior to performing the QC.** This will inform you if you have any cell types with low complexity (lots of transcripts from a few genes) or cells with higher levels of mitochondrial expression. This will enable us to account for these biological factors during the analysis workflow.\n",
    "\n",
    "None of the above cell types are expected to be low complexity or anticipated to have high mitochondrial content.\n",
    "\n",
    "## Set up\n",
    "\n",
    "For this workshop, we will be working within an RStudio project. In order to follow along you should have **downloaded the R project**.\n",
    "\n",
    "::: callout-important\n",
    "If you haven't done this already, the project can be accessed using [this link](https://www.dropbox.com/s/vop78wq76h02a2f/single_cell_rnaseq.zip?dl=1).\n",
    ":::\n"
   ]
  },
  {
   "cell_type": "markdown",
   "id": "ccf7fe9f-ad19-4d4e-a521-b62e25d8ab8c",
   "metadata": {},
   "source": [
    "# TODO: download instructions"
   ]
  },
  {
   "cell_type": "markdown",
   "id": "4ecf54e3-2aea-40f2-86bb-70d56d5d49f1",
   "metadata": {},
   "source": [
    "## Project organization\n",
    "\n",
    "One of the most important parts of research that involves large amounts of data, is how best to manage it. We tend to prioritize the analysis, but there are many other important aspects of **data management that are often overlooked** in the excitement to get a first look at new data. The [HMS Data Management Working Group](https://datamanagement.hms.harvard.edu/), discusses in-depth some things to consider beyond the data creation and analysis.\n",
    "\n",
    "One important aspect of data management is organization. For each experiment you work on and analyze data for, it is considered best practice to get organized by creating **a planned storage space (directory structure)**. We will do that for our single-cell analysis. \n",
    "\n",
    "Look inside your project space and you will find that a directory structure has been setup for you:\n"
   ]
  },
  {
   "cell_type": "code",
   "execution_count": null,
   "id": "b023b59c-3369-4943-9549-01b572dc787f",
   "metadata": {},
   "outputs": [],
   "source": [
    "single_cell_rnaseq/\n",
    "├── data\n",
    "├── results\n",
    "└── figures"
   ]
  }
 ],
 "metadata": {
  "kernelspec": {
   "display_name": "Python 3 (ipykernel)",
   "language": "python",
   "name": "python3"
  },
  "language_info": {
   "codemirror_mode": {
    "name": "ipython",
    "version": 3
   },
   "file_extension": ".py",
   "mimetype": "text/x-python",
   "name": "python",
   "nbconvert_exporter": "python",
   "pygments_lexer": "ipython3",
   "version": "3.8.19"
  }
 },
 "nbformat": 4,
 "nbformat_minor": 5
}
